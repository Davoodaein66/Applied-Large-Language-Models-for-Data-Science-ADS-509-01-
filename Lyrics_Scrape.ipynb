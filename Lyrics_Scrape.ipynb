{
  "cells": [
    {
      "cell_type": "markdown",
      "id": "95952cac",
      "metadata": {
        "id": "95952cac"
      },
      "source": [
        "# ADS 509 Module 1: APIs and Web Scraping\n",
        "\n",
        "This notebook has two parts. In the first part, you will scrape lyrics from AZLyrics.com. In the second part, you'll run code that verifies the completeness of your data pull.\n",
        "\n",
        "For this assignment you have chosen two musical artists who have at least 20 songs with lyrics on AZLyrics.com. We start with pulling some information and analyzing them.\n"
      ]
    },
    {
      "cell_type": "markdown",
      "id": "069b7ae8",
      "metadata": {
        "id": "069b7ae8"
      },
      "source": [
        "## General Assignment Instructions\n",
        "\n",
        "These instructions are included in every assignment, to remind you of the coding standards for the class. Feel free to delete this cell after reading it.\n",
        "\n",
        "One sign of mature code is conforming to a style guide. We recommend the [Google Python Style Guide](https://google.github.io/styleguide/pyguide.html). If you use a different style guide, please include a cell with a link.\n",
        "\n",
        "Your code should be relatively easy-to-read, sensibly commented, and clean. Writing code is a messy process, so please be sure to edit your final submission. Remove any cells that are not needed or parts of cells that contain unnecessary code. Remove inessential `import` statements and make sure that all such statements are moved into the designated cell.\n",
        "\n",
        "Make use of non-code cells for written commentary. These cells should be grammatical and clearly written. In some of these cells you will have questions to answer. The questions will be marked by a \"Q:\" and will have a corresponding \"A:\" spot for you. *Make sure to answer every question marked with a `Q:` for full credit.*\n"
      ]
    },
    {
      "cell_type": "markdown",
      "id": "91c8969e",
      "metadata": {
        "id": "91c8969e"
      },
      "source": [
        "# Importing Libraries"
      ]
    },
    {
      "cell_type": "code",
      "execution_count": 1,
      "id": "185076b0",
      "metadata": {
        "id": "185076b0"
      },
      "outputs": [],
      "source": [
        "import os\n",
        "import datetime\n",
        "import re\n",
        "\n",
        "# for the lyrics scrape section\n",
        "import requests\n",
        "import time\n",
        "from bs4 import BeautifulSoup\n",
        "from collections import defaultdict, Counter\n",
        "import random"
      ]
    },
    {
      "cell_type": "code",
      "execution_count": null,
      "id": "a47e2d5f",
      "metadata": {
        "id": "a47e2d5f"
      },
      "outputs": [],
      "source": [
        "# Use this cell for any import statements you add\n",
        "\n"
      ]
    },
    {
      "cell_type": "markdown",
      "id": "45c13af3",
      "metadata": {
        "id": "45c13af3"
      },
      "source": [
        "---\n",
        "\n",
        "# Lyrics Scrape\n",
        "\n",
        "This section asks you to pull data by scraping www.AZLyrics.com. In the notebooks where you do that work you are asked to store the data in specific ways."
      ]
    },
    {
      "cell_type": "code",
      "execution_count": 2,
      "id": "5bd7df77",
      "metadata": {
        "id": "5bd7df77"
      },
      "outputs": [],
      "source": [
        "artists = {'robyn':\"https://www.azlyrics.com/r/robyn.html\",\n",
        "           'cher':\"https://www.azlyrics.com/c/cher.html\"}\n",
        "# we'll use this dictionary to hold both the artist name and the link on AZlyrics"
      ]
    },
    {
      "cell_type": "markdown",
      "id": "c236c99b",
      "metadata": {
        "id": "c236c99b"
      },
      "source": [
        "## A Note on Rate Limiting\n",
        "\n",
        "The lyrics site, www.azlyrics.com, does not have an explicit maximum on number of requests in any one time, but in our testing it appears that too many requests in too short a time will cause the site to stop returning lyrics pages. (Entertainingly, the page that gets returned seems to only have the song title to [a Tom Jones song](https://www.azlyrics.com/lyrics/tomjones/itsnotunusual.html).)\n",
        "\n",
        "Whenever you call `requests.get` to retrieve a page, put a `time.sleep(5 + 10*random.random())` on the next line. This will help you not to get blocked. If you _do_ get blocked, which you can identify if the returned pages are not correct, just request a lyrics page through your browser. You'll be asked to perform a CAPTCHA and then your requests should start working again.\n",
        "\n",
        "## Part 1: Finding Links to Songs Lyrics\n",
        "\n",
        "That general artist page has a list of all songs for that artist with links to the individual song pages.\n",
        "\n",
        "Q: Take a look at the `robots.txt` page on www.azlyrics.com. (You can read more about these pages [here](https://developers.google.com/search/docs/advanced/robots/intro).) Is the scraping we are about to do allowed or disallowed by this page? How do you know?\n",
        "\n",
        "A: <!-- Delete this comment and put your answer here. -->\n"
      ]
    },
    {
      "cell_type": "code",
      "execution_count": 3,
      "id": "ac9d31ec",
      "metadata": {
        "id": "ac9d31ec"
      },
      "outputs": [],
      "source": [
        "# Let's set up a dictionary of lists to hold our links\n",
        "lyrics_pages = defaultdict(list)\n",
        "\n",
        "for artist, artist_page in artists.items() :\n",
        "    # request the page and sleep\n",
        "    r = requests.get(artist_page)\n",
        "    time.sleep(5 + 10*random.random())\n",
        "\n",
        "    # now extract the links to lyrics pages from this page\n",
        "    # store the links `lyrics_pages` where the key is the artist and the\n",
        "    # value is a list of links.\n"
      ]
    },
    {
      "cell_type": "markdown",
      "id": "9c285ec1",
      "metadata": {
        "id": "9c285ec1"
      },
      "source": [
        "Let's make sure we have enough lyrics pages to scrape."
      ]
    },
    {
      "cell_type": "code",
      "execution_count": 4,
      "id": "ae4cda68",
      "metadata": {
        "id": "ae4cda68"
      },
      "outputs": [],
      "source": [
        "for artist, lp in lyrics_pages.items() :\n",
        "    assert(len(set(lp)) > 20)"
      ]
    },
    {
      "cell_type": "code",
      "execution_count": 5,
      "id": "edca10d6",
      "metadata": {
        "id": "edca10d6"
      },
      "outputs": [],
      "source": [
        "# Let's see how long it's going to take to pull these lyrics\n",
        "# if we're waiting `5 + 10*random.random()` seconds\n",
        "for artist, links in lyrics_pages.items() :\n",
        "    print(f\"For {artist} we have {len(links)}.\")\n",
        "    print(f\"The full pull will take for this artist will take {round(len(links)*10/3600,2)} hours.\")"
      ]
    },
    {
      "cell_type": "markdown",
      "id": "011be6c6",
      "metadata": {
        "id": "011be6c6"
      },
      "source": [
        "## Part 2: Pulling Lyrics\n",
        "\n",
        "Now that we have the links to our lyrics pages, let's go scrape them! Here are the steps for this part.\n",
        "\n",
        "1. Create an empty folder in our repo called \"lyrics\".\n",
        "1. Iterate over the artists in `lyrics_pages`.\n",
        "1. Create a subfolder in lyrics with the artist's name. For instance, if the artist was Cher you'd have `lyrics/cher/` in your repo.\n",
        "1. Iterate over the pages.\n",
        "1. Request the page and extract the lyrics from the returned HTML file using BeautifulSoup.\n",
        "1. Use the function below, `generate_filename_from_url`, to create a filename based on the lyrics page, then write the lyrics to a text file with that name.\n"
      ]
    },
    {
      "cell_type": "code",
      "execution_count": 6,
      "id": "67693711",
      "metadata": {
        "id": "67693711"
      },
      "outputs": [],
      "source": [
        "def generate_filename_from_link(link) :\n",
        "\n",
        "    if not link :\n",
        "        return None\n",
        "\n",
        "    # drop the http or https and the html\n",
        "    name = link.replace(\"https\",\"\").replace(\"http\",\"\")\n",
        "    name = link.replace(\".html\",\"\")\n",
        "\n",
        "    name = name.replace(\"/lyrics/\",\"\")\n",
        "\n",
        "    # Replace useless chareacters with UNDERSCORE\n",
        "    name = name.replace(\"://\",\"\").replace(\".\",\"_\").replace(\"/\",\"_\")\n",
        "\n",
        "    # tack on .txt\n",
        "    name = name + \".txt\"\n",
        "\n",
        "    return(name)\n"
      ]
    },
    {
      "cell_type": "code",
      "execution_count": 7,
      "id": "94a78c78",
      "metadata": {
        "id": "94a78c78"
      },
      "outputs": [],
      "source": [
        "# Make the lyrics folder here. If you'd like to practice your programming, add functionality\n",
        "# that checks to see if the folder exists. If it does, then use shutil.rmtree to remove it and create a new one.\n",
        "\n",
        "if os.path.isdir(\"lyrics\") :\n",
        "    shutil.rmtree(\"lyrics/\")\n",
        "\n",
        "os.mkdir(\"lyrics\")"
      ]
    },
    {
      "cell_type": "code",
      "execution_count": 9,
      "id": "d655b687",
      "metadata": {
        "id": "d655b687"
      },
      "outputs": [],
      "source": [
        "url_stub = \"https://www.azlyrics.com\"\n",
        "start = time.time()\n",
        "\n",
        "total_pages = 0\n",
        "\n",
        "for artist in lyrics_pages :\n",
        "\n",
        "    # Use this space to carry out the following steps:\n",
        "\n",
        "    # 1. Build a subfolder for the artist\n",
        "    # 2. Iterate over the lyrics pages\n",
        "    # 3. Request the lyrics page.\n",
        "        # Don't forget to add a line like `time.sleep(5 + 10*random.random())`\n",
        "        # to sleep after making the request\n",
        "    # 4. Extract the title and lyrics from the page.\n",
        "    # 5. Write out the title, two returns ('\\n'), and the lyrics. Use `generate_filename_from_url`\n",
        "    #    to generate the filename.\n",
        "\n",
        "    # Remember to pull at least 20 songs per artist. It may be fun to pull all the songs for the artist\n",
        "\n",
        "\n",
        "\n",
        "\n"
      ]
    },
    {
      "cell_type": "code",
      "source": [
        "# 📦 Imports\n",
        "import requests\n",
        "from bs4 import BeautifulSoup, Comment\n",
        "import time\n",
        "import os\n",
        "import random\n",
        "import re\n",
        "\n",
        "# 📁 Create lyrics base directory\n",
        "base_dir = \"lyrics\"\n",
        "os.makedirs(base_dir, exist_ok=True)\n",
        "\n",
        "# 🎤 Pick two artists from this list\n",
        "artist_urls = {\n",
        "    \"Taylor Swift\": \"https://www.azlyrics.com/t/taylorswift.html\",\n",
        "    \"Adele\":        \"https://www.azlyrics.com/a/adele.html\",\n",
        "    \"Ed Sheeran\":   \"https://www.azlyrics.com/e/edsheeran.html\",\n",
        "    \"Coldplay\":     \"https://www.azlyrics.com/c/coldplay.html\"\n",
        "}\n",
        "selected_artists = random.sample(list(artist_urls.keys()), 2)\n",
        "print(\"Selected artists:\", selected_artists)\n",
        "\n",
        "headers = {\"User-Agent\": \"Mozilla/5.0\"}\n",
        "\n",
        "# 🔗 Step 1: Get song URLs per artist\n",
        "artist_song_links = {}\n",
        "\n",
        "for artist in selected_artists:\n",
        "    print(f\"\\nFetching song list for {artist}\")\n",
        "    res = requests.get(artist_urls[artist], headers=headers)\n",
        "    soup = BeautifulSoup(res.text, \"html.parser\")\n",
        "\n",
        "    # Grab links from divs with class \"listalbum-item\"\n",
        "    song_divs = soup.find_all(\"div\", class_=\"listalbum-item\")\n",
        "    links = []\n",
        "    for div in song_divs:\n",
        "        a_tag = div.find(\"a\")\n",
        "        if a_tag and a_tag['href'].startswith(\"..\"):\n",
        "            link = \"https://www.azlyrics.com\" + a_tag['href'][2:]\n",
        "            title = a_tag.text.strip()\n",
        "            links.append((title, link))\n",
        "    artist_song_links[artist] = links\n",
        "    print(f\"Found {len(links)} songs.\")\n",
        "\n",
        "# 🎵 Step 2: Function to extract lyrics from AZLyrics page\n",
        "def extract_lyrics(soup):\n",
        "    comments = soup.find_all(string=lambda text: isinstance(text, Comment))\n",
        "    for comment in comments:\n",
        "        if \"Usage of azlyrics.com content\" in comment:\n",
        "            div = comment.find_next_sibling(\"div\")\n",
        "            if div:\n",
        "                return div.get_text(separator=\"\\n\", strip=True)\n",
        "    return \"\"\n",
        "\n",
        "# 💾 Step 3: Scrape and save lyrics\n",
        "for artist in selected_artists:\n",
        "    print(f\"\\nScraping lyrics for {artist}\")\n",
        "    artist_dir = os.path.join(base_dir, artist.replace(\" \", \"_\"))\n",
        "    os.makedirs(artist_dir, exist_ok=True)\n",
        "\n",
        "    count = 0\n",
        "    for title, url in artist_song_links[artist]:\n",
        "        try:\n",
        "            res = requests.get(url, headers=headers)\n",
        "            soup = BeautifulSoup(res.text, \"html.parser\")\n",
        "            lyrics = extract_lyrics(soup)\n",
        "\n",
        "            if lyrics and len(lyrics.split()) > 20:  # Skip empty or short results\n",
        "                filename = re.sub(r\"[^\\w\\s-]\", \"\", title).replace(\" \", \"_\") + \".txt\"\n",
        "                with open(os.path.join(artist_dir, filename), \"w\", encoding=\"utf-8\") as f:\n",
        "                    f.write(title + \"\\n\\n\" + lyrics)\n",
        "                count += 1\n",
        "                print(f\"  ✔ Saved: {title}\")\n",
        "            else:\n",
        "                print(f\"  ⚠️ Skipped (no lyrics): {title}\")\n",
        "        except Exception as e:\n",
        "            print(f\"  ❌ Failed for {title}: {e}\")\n",
        "\n",
        "        time.sleep(random.uniform(2, 4))  # respectful pause\n",
        "\n",
        "    print(f\"✅ Done: {count} lyrics saved for {artist}\")\n",
        "\n",
        "# 📊 Step 4: Summary stats\n",
        "print(\"\\n🧾 Summary:\")\n",
        "for artist in selected_artists:\n",
        "    artist_dir = os.path.join(base_dir, artist.replace(\" \", \"_\"))\n",
        "    files = [f for f in os.listdir(artist_dir) if f.endswith(\".txt\")]\n",
        "    word_count = 0\n",
        "    for f_name in files:\n",
        "        with open(os.path.join(artist_dir, f_name), encoding='utf-8') as f:\n",
        "            word_count += len(f.read().split())\n",
        "    print(f\"{artist}: {len(files)} lyrics files, {word_count} total words\")\n"
      ],
      "metadata": {
        "colab": {
          "base_uri": "https://localhost:8080/"
        },
        "id": "oI2nFt2wUzYg",
        "outputId": "ec968aac-6dec-4188-f66a-367316cfe509"
      },
      "id": "oI2nFt2wUzYg",
      "execution_count": 44,
      "outputs": [
        {
          "output_type": "stream",
          "name": "stdout",
          "text": [
            "Selected artists: ['Coldplay', 'Ed Sheeran']\n",
            "\n",
            "Fetching song list for Coldplay\n",
            "Found 0 songs.\n",
            "\n",
            "Fetching song list for Ed Sheeran\n",
            "Found 0 songs.\n",
            "\n",
            "Scraping lyrics for Coldplay\n",
            "✅ Done: 0 lyrics saved for Coldplay\n",
            "\n",
            "Scraping lyrics for Ed Sheeran\n",
            "✅ Done: 0 lyrics saved for Ed Sheeran\n",
            "\n",
            "🧾 Summary:\n",
            "Coldplay: 0 lyrics files, 0 total words\n",
            "Ed Sheeran: 0 lyrics files, 0 total words\n"
          ]
        }
      ]
    },
    {
      "cell_type": "code",
      "execution_count": 45,
      "id": "36c394f1",
      "metadata": {
        "id": "36c394f1",
        "colab": {
          "base_uri": "https://localhost:8080/"
        },
        "outputId": "798d8bb3-79fb-412b-e6da-07cd34ae617d"
      },
      "outputs": [
        {
          "output_type": "stream",
          "name": "stdout",
          "text": [
            "Total run time was 0.03 hours.\n"
          ]
        }
      ],
      "source": [
        "print(f\"Total run time was {round((time.time() - start)/3600,2)} hours.\")"
      ]
    },
    {
      "cell_type": "markdown",
      "id": "054cf14b",
      "metadata": {
        "id": "054cf14b"
      },
      "source": [
        "---\n",
        "\n",
        "# Evaluation\n",
        "\n",
        "This assignment asks you to pull data by scraping www.AZLyrics.com.  After you have finished the above sections , run all the cells in this notebook. Print this to PDF and submit it, per the instructions."
      ]
    },
    {
      "cell_type": "code",
      "execution_count": 46,
      "id": "217c2b0a",
      "metadata": {
        "id": "217c2b0a"
      },
      "outputs": [],
      "source": [
        "# Simple word extractor from Peter Norvig: https://norvig.com/spell-correct.html\n",
        "def words(text):\n",
        "    return re.findall(r'\\w+', text.lower())"
      ]
    },
    {
      "cell_type": "markdown",
      "id": "37778a1c",
      "metadata": {
        "id": "37778a1c"
      },
      "source": [
        "## Checking Lyrics\n",
        "\n",
        "The output from your lyrics scrape should be stored in files located in this path from the directory:\n",
        "`/lyrics/[Artist Name]/[filename from URL]`. This code summarizes the information at a high level to help the instructor evaluate your work."
      ]
    },
    {
      "cell_type": "code",
      "execution_count": 47,
      "id": "bccac29c",
      "metadata": {
        "id": "bccac29c",
        "colab": {
          "base_uri": "https://localhost:8080/"
        },
        "outputId": "6424048e-d7b1-493d-b80c-034c5da91bee"
      },
      "outputs": [
        {
          "output_type": "stream",
          "name": "stdout",
          "text": [
            "For Ed_Sheeran we have 0 files.\n",
            "For Ed_Sheeran we have roughly 0 words, 0 are unique.\n",
            "For drake we have 0 files.\n",
            "For drake we have roughly 0 words, 0 are unique.\n",
            "For bruno_mars we have 0 files.\n",
            "For bruno_mars we have roughly 0 words, 0 are unique.\n",
            "For Coldplay we have 0 files.\n",
            "For Coldplay we have roughly 0 words, 0 are unique.\n"
          ]
        }
      ],
      "source": [
        "artist_folders = os.listdir(\"lyrics/\")\n",
        "artist_folders = [f for f in artist_folders if os.path.isdir(\"lyrics/\" + f)]\n",
        "\n",
        "for artist in artist_folders :\n",
        "    artist_files = os.listdir(\"lyrics/\" + artist)\n",
        "    artist_files = [f for f in artist_files if 'txt' in f or 'csv' in f or 'tsv' in f]\n",
        "\n",
        "    print(f\"For {artist} we have {len(artist_files)} files.\")\n",
        "\n",
        "    artist_words = []\n",
        "\n",
        "    for f_name in artist_files :\n",
        "        with open(\"lyrics/\" + artist + \"/\" + f_name) as infile :\n",
        "            artist_words.extend(words(infile.read()))\n",
        "\n",
        "\n",
        "    print(f\"For {artist} we have roughly {len(artist_words)} words, {len(set(artist_words))} are unique.\")\n"
      ]
    }
  ],
  "metadata": {
    "kernelspec": {
      "display_name": "Python 3 (ipykernel)",
      "language": "python",
      "name": "python3"
    },
    "language_info": {
      "codemirror_mode": {
        "name": "ipython",
        "version": 3
      },
      "file_extension": ".py",
      "mimetype": "text/x-python",
      "name": "python",
      "nbconvert_exporter": "python",
      "pygments_lexer": "ipython3",
      "version": "3.8.11"
    },
    "colab": {
      "provenance": []
    }
  },
  "nbformat": 4,
  "nbformat_minor": 5
}